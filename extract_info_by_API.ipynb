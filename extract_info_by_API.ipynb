{
 "cells": [
  {
   "cell_type": "code",
   "execution_count": null,
   "metadata": {},
   "outputs": [],
   "source": [
    "import pandas as pd\n",
    "from tqdm import tqdm\n",
    "import os\n",
    "import requests\n",
    "import json\n",
    "from pprint import pprint\n",
    "\n",
    "APIM_KEY = \"\"\n",
    "MODEL = 'gpt-4.1'\n",
    "\n",
    "url = \"\""
   ]
  },
  {
   "cell_type": "code",
   "execution_count": null,
   "metadata": {},
   "outputs": [],
   "source": [
    "dataset_path = ''\n",
    "\n",
    "export_path = ''\n"
   ]
  },
  {
   "cell_type": "markdown",
   "metadata": {},
   "source": [
    "# functions"
   ]
  },
  {
   "cell_type": "code",
   "execution_count": null,
   "metadata": {},
   "outputs": [],
   "source": [
    "def parse_findings(report):\n",
    "    if 'FINDINGS:' in report and 'IMPRESSION:' in report:\n",
    "        start = report.index('FINDINGS:')\n",
    "        end = report.index('IMPRESSION:')\n",
    "        if start < end:\n",
    "            findings = report[start:end]\n",
    "            return findings\n",
    "        else:\n",
    "            return None\n",
    "        \n",
    "    elif 'FINDINGS' in report and 'IMPRESSION' in report:\n",
    "        start = report.index('FINDINGS')\n",
    "        end = report.index('IMPRESSION')\n",
    "        if start < end:\n",
    "            findings = report[start:end]\n",
    "            return findings\n",
    "        else:\n",
    "            return None\n",
    "        \n",
    "    elif 'Findings:' in report and 'Impression:' in report:\n",
    "        start = report.index('Findings:')\n",
    "        end = report.index('Impression:')\n",
    "        if start < end:\n",
    "            findings = report[start:end]\n",
    "            return findings\n",
    "        else:\n",
    "            return None\n",
    "\n",
    "    else:\n",
    "        return None"
   ]
  },
  {
   "cell_type": "markdown",
   "metadata": {},
   "source": [
    "# main codes"
   ]
  },
  {
   "cell_type": "code",
   "execution_count": null,
   "metadata": {},
   "outputs": [],
   "source": [
    "df = pd.read_excel(dataset_path)\n",
    "print(df.shape)\n",
    "print(df.columns)"
   ]
  },
  {
   "cell_type": "code",
   "execution_count": null,
   "metadata": {},
   "outputs": [],
   "source": [
    "intro = 'The following is an ultrasound radiology report:'\n",
    "\n",
    "instruction = \"\"\"\n",
    "INSTRUCTIONS:\n",
    "Extract the following information from the report:\n",
    "- cystic artery velocity (cm/s). If multiple values are reported, provide the maximum value.\n",
    "- hepatic artery velocity (cm/s). If multiple values are reported, provide the maximum value.\n",
    "- hepatic artery resistive index (RI) (no units)\n",
    "- gallbladder wall thickness (mm). If multiple values are reported, provide the maximum value.\n",
    "- gallbladder wall thickening ('thickened'/'thickening', 'not thickened'/'no thickening'/'normal', 'equivocal'/'borderline'/'mild'/'minimal'/'slight'/'questionable'/'upper limit of normal'/'top normal', or 'not reported'). Do not infer from the gallbladder wall thickness numerical value.\n",
    "- gallbladder wall hyperemia (present, absent, equivocal, or not reported)\n",
    "- pericholecystic fluid (present, absent, or not reported)\n",
    "- gallbladder sludge / biliary sludge (present, absent, or not reported)\n",
    "- sonographic Murphy sign (positive, negative, limited evaluation, or not reported). If sonographic Murphy sign is negative but the patient received pain medications (analgesics), report as \"limited evaluation\".\n",
    "- gallbladder size (cm). If multiple dimensions are measured, report as x*y*z cm, with x being the largest dimension, followed by y and z.\n",
    "- gallbladder distention (distended, not distended, equivocal, or not reported). Do not infer from the gallbladder size numerical values.\n",
    "- gallbladder perforation (present, absent, equivocal, or not reported)\n",
    "- gallstone/cholelithiasis (present, absent, or not reported)\n",
    "- gallstone/cholelithiasis size (cm). If multiple values are reported, provide the maximum value.\n",
    "- gallstone/cholelithiasis number (single, multiple, or not reported)\n",
    "- gallstone/cholelithiasis location (gallbladder neck, gallbladder body, gallbladder fundus, gallbladder infundibulum, cystic duct, other location, or not reported)\n",
    "- common bile duct (CBD) size (mm). If multiple values are reported, provide the maximum value.\n",
    "- CBD stone (present, absent, or not reported)\n",
    "- CBD stone size (mm). If multiple values are reported, provide the maximum value.\n",
    "- gallbladder polyp (present, absent, or not reported)\n",
    "- gallbladder polyp size (mm). If multiple values are reported, provide the maximum value.\n",
    "- gallbladder polyp number (single, multiple, or not reported)\n",
    "If any of the above parameters are not available in the report, indicate with “not reported”.\n",
    "Also provide your interpretation of the likelihood of acute cholecystitis based on the findings in the report (yes, no, or equivocal).\n",
    "Provide the answer in json format with the following keys: cystic_artery_velocity, hepatic_artery_velocity, hepatic_artery_resistive_index, gallbladder_wall_thickness, gallbladder_wall_thickening, gallbladder_wall_hyperemia, pericholecystic_fluid, gallbladder_sludge, sonographic_murphys_sign, gallbladder_size, gallbladder_distention, gallbladder_perforation, gallstone, gallstone_size, gallstone_number, gallstone_location, cbd_size, cbd_stone, cbd_stone_size, gallbladder_polyp, gallbladder_polyp_size, gallbladder_polyp_number, likelihood_of_acute_cholecystitis. Exclude units from the values in the json response.\n",
    "\"\"\""
   ]
  },
  {
   "cell_type": "code",
   "execution_count": null,
   "metadata": {},
   "outputs": [],
   "source": [
    "\n",
    "for row_idx in tqdm(df.index):\n",
    "\n",
    "    try:\n",
    "\n",
    "        if 'API_response' in df.columns:\n",
    "            if pd.notna(df.loc[row_idx, 'API_response']):\n",
    "                continue\n",
    "\n",
    "        if pd.notna(df.loc[row_idx, 'deidentified_US_report']):\n",
    "            findings = parse_findings(df.loc[row_idx, 'deidentified_US_report'])\n",
    "        elif pd.notna(df.loc[row_idx, 'Scrubbed Text']):\n",
    "            findings = parse_findings(df.loc[row_idx, 'Scrubbed Text'])\n",
    "        else:\n",
    "            continue\n",
    "\n",
    "        if findings is None:\n",
    "            if 'findings_manually_copied' in df.columns:\n",
    "                if pd.notna(df.loc[row_idx, 'findings_manually_copied']):\n",
    "                    findings = df.loc[row_idx, 'findings_manually_copied']\n",
    "                else:\n",
    "                    print(f'No findings found for row {row_idx}')\n",
    "                    continue\n",
    "            else:\n",
    "                print(f'No findings found for row {row_idx}')\n",
    "                continue\n",
    "\n",
    "        prompt = intro + '\\n\\n' + findings + '\\n' + instruction\n",
    "\n",
    "        payload = json.dumps({\n",
    "            \"model\": MODEL,\n",
    "            \"messages\": [\n",
    "                {\n",
    "                    \"role\": \"system\", \n",
    "                    \"content\": \"You are a helpful assistant.\"\n",
    "                },\n",
    "                {\n",
    "                    \"role\": \"user\",\n",
    "                    \"content\": prompt\n",
    "                }\n",
    "            ]\n",
    "        })\n",
    "\n",
    "        headers = {\n",
    "            'Ocp-Apim-Subscription-Key': APIM_KEY,\n",
    "            'Content-Type': 'application/json'\n",
    "        }\n",
    "\n",
    "        response = requests.request(\"POST\", url, headers=headers, data=payload)\n",
    "        response_dict = json.loads(response.text)\n",
    "\n",
    "        df.loc[row_idx, 'API_response'] = response_dict['choices'][0]['message']['content']\n",
    "\n",
    "    except Exception as e:\n",
    "        print(f'Error at row {row_idx}')\n",
    "        print(e)\n",
    "\n"
   ]
  },
  {
   "cell_type": "code",
   "execution_count": null,
   "metadata": {},
   "outputs": [],
   "source": [
    "df.to_excel(export_path, index=False)"
   ]
  }
 ],
 "metadata": {
  "kernelspec": {
   "display_name": "general_env",
   "language": "python",
   "name": "python3"
  },
  "language_info": {
   "codemirror_mode": {
    "name": "ipython",
    "version": 3
   },
   "file_extension": ".py",
   "mimetype": "text/x-python",
   "name": "python",
   "nbconvert_exporter": "python",
   "pygments_lexer": "ipython3",
   "version": "3.11.5"
  }
 },
 "nbformat": 4,
 "nbformat_minor": 2
}
